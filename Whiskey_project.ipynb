{
 "cells": [
  {
   "cell_type": "code",
   "execution_count": 1,
   "metadata": {},
   "outputs": [],
   "source": [
    "import numpy as np\n",
    "import pandas as pd\n",
    "import matplotlib.pyplot as plt\n",
    "import seaborn as sns\n",
    "plt.style.use('fivethirtyeight')\n",
    "import re"
   ]
  },
  {
   "cell_type": "code",
   "execution_count": 2,
   "metadata": {},
   "outputs": [
    {
     "data": {
      "text/html": [
       "<div>\n",
       "<style scoped>\n",
       "    .dataframe tbody tr th:only-of-type {\n",
       "        vertical-align: middle;\n",
       "    }\n",
       "\n",
       "    .dataframe tbody tr th {\n",
       "        vertical-align: top;\n",
       "    }\n",
       "\n",
       "    .dataframe thead th {\n",
       "        text-align: right;\n",
       "    }\n",
       "</style>\n",
       "<table border=\"1\" class=\"dataframe\">\n",
       "  <thead>\n",
       "    <tr style=\"text-align: right;\">\n",
       "      <th></th>\n",
       "      <th>id</th>\n",
       "      <th>name</th>\n",
       "      <th>category</th>\n",
       "      <th>review.point</th>\n",
       "      <th>price</th>\n",
       "      <th>currency</th>\n",
       "      <th>description.1.2247.</th>\n",
       "    </tr>\n",
       "  </thead>\n",
       "  <tbody>\n",
       "    <tr>\n",
       "      <th>0</th>\n",
       "      <td>1</td>\n",
       "      <td>Black Bowmore 42 year old 1964 vintage, 40.5%</td>\n",
       "      <td>Single Malt Scotch</td>\n",
       "      <td>97</td>\n",
       "      <td>4500</td>\n",
       "      <td>$</td>\n",
       "      <td>What impresses me most is how this whisky evol...</td>\n",
       "    </tr>\n",
       "    <tr>\n",
       "      <th>1</th>\n",
       "      <td>2</td>\n",
       "      <td>Bowmore 46 year old (distilled 1964), 42.9%</td>\n",
       "      <td>Single Malt Scotch</td>\n",
       "      <td>97</td>\n",
       "      <td>13500</td>\n",
       "      <td>$</td>\n",
       "      <td>There have been some legendary Bowmores from t...</td>\n",
       "    </tr>\n",
       "    <tr>\n",
       "      <th>2</th>\n",
       "      <td>3</td>\n",
       "      <td>Johnnie Walker Blue Label, 40%</td>\n",
       "      <td>Blended Scotch Whisky</td>\n",
       "      <td>97</td>\n",
       "      <td>225</td>\n",
       "      <td>$</td>\n",
       "      <td>Magnificently powerful and intense. Caramels, ...</td>\n",
       "    </tr>\n",
       "    <tr>\n",
       "      <th>3</th>\n",
       "      <td>4</td>\n",
       "      <td>Glenlivet Cellar Collection 1969 vintage, 50.8%</td>\n",
       "      <td>Single Malt Scotch</td>\n",
       "      <td>96</td>\n",
       "      <td>750</td>\n",
       "      <td>$</td>\n",
       "      <td>It’s great that Glenlivet releases whiskies un...</td>\n",
       "    </tr>\n",
       "    <tr>\n",
       "      <th>4</th>\n",
       "      <td>5</td>\n",
       "      <td>The Macallan 29 year old 1976 Vintage (Cask #1...</td>\n",
       "      <td>Single Malt Scotch</td>\n",
       "      <td>96</td>\n",
       "      <td>1,500</td>\n",
       "      <td>$</td>\n",
       "      <td>Classic sherry cask-aged Macallan. Antique amb...</td>\n",
       "    </tr>\n",
       "  </tbody>\n",
       "</table>\n",
       "</div>"
      ],
      "text/plain": [
       "   id                                               name  \\\n",
       "0   1      Black Bowmore 42 year old 1964 vintage, 40.5%   \n",
       "1   2        Bowmore 46 year old (distilled 1964), 42.9%   \n",
       "2   3                     Johnnie Walker Blue Label, 40%   \n",
       "3   4    Glenlivet Cellar Collection 1969 vintage, 50.8%   \n",
       "4   5  The Macallan 29 year old 1976 Vintage (Cask #1...   \n",
       "\n",
       "                category  review.point  price currency  \\\n",
       "0     Single Malt Scotch            97   4500        $   \n",
       "1     Single Malt Scotch            97  13500        $   \n",
       "2  Blended Scotch Whisky            97    225        $   \n",
       "3     Single Malt Scotch            96    750        $   \n",
       "4     Single Malt Scotch            96  1,500        $   \n",
       "\n",
       "                                 description.1.2247.  \n",
       "0  What impresses me most is how this whisky evol...  \n",
       "1  There have been some legendary Bowmores from t...  \n",
       "2  Magnificently powerful and intense. Caramels, ...  \n",
       "3  It’s great that Glenlivet releases whiskies un...  \n",
       "4  Classic sherry cask-aged Macallan. Antique amb...  "
      ]
     },
     "metadata": {},
     "output_type": "display_data"
    }
   ],
   "source": [
    "df = pd.read_csv('/Users/holleyvoegtle/Desktop/practice_projects_for_github/solo_project_booze/scotch_review2020.csv')\n",
    "display(df.head())"
   ]
  },
  {
   "cell_type": "code",
   "execution_count": 8,
   "metadata": {},
   "outputs": [
    {
     "name": "stdout",
     "output_type": "stream",
     "text": [
      "The dataframe has 7 columns and 2247 rows\n"
     ]
    }
   ],
   "source": [
    "# what the table looks like:\n",
    "dimensions=df.shape\n",
    "print(\"The dataframe has\", dimensions[1],\"columns and\", dimensions[0], \"rows\")"
   ]
  },
  {
   "cell_type": "code",
   "execution_count": 4,
   "metadata": {},
   "outputs": [
    {
     "name": "stdout",
     "output_type": "stream",
     "text": [
      "<class 'pandas.core.frame.DataFrame'>\n",
      "RangeIndex: 2247 entries, 0 to 2246\n",
      "Data columns (total 7 columns):\n",
      " #   Column               Non-Null Count  Dtype \n",
      "---  ------               --------------  ----- \n",
      " 0   id                   2247 non-null   int64 \n",
      " 1   name                 2247 non-null   object\n",
      " 2   category             2247 non-null   object\n",
      " 3   review.point         2247 non-null   int64 \n",
      " 4   price                2247 non-null   object\n",
      " 5   currency             2247 non-null   object\n",
      " 6   description.1.2247.  2208 non-null   object\n",
      "dtypes: int64(2), object(5)\n",
      "memory usage: 123.0+ KB\n"
     ]
    }
   ],
   "source": [
    "df.info()"
   ]
  },
  {
   "cell_type": "code",
   "execution_count": null,
   "metadata": {},
   "outputs": [],
   "source": []
  }
 ],
 "metadata": {
  "kernelspec": {
   "display_name": "Python 3",
   "language": "python",
   "name": "python3"
  },
  "language_info": {
   "codemirror_mode": {
    "name": "ipython",
    "version": 3
   },
   "file_extension": ".py",
   "mimetype": "text/x-python",
   "name": "python",
   "nbconvert_exporter": "python",
   "pygments_lexer": "ipython3",
   "version": "3.8.3"
  }
 },
 "nbformat": 4,
 "nbformat_minor": 4
}
