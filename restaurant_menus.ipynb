{
 "cells": [
  {
   "cell_type": "code",
   "execution_count": 1,
   "metadata": {},
   "outputs": [],
   "source": [
    "class Business:\n",
    "  def __init__(self, name, franchises):\n",
    "    self.name = name\n",
    "    self.franchises = franchises"
   ]
  },
  {
   "cell_type": "code",
   "execution_count": 2,
   "metadata": {},
   "outputs": [],
   "source": [
    "class Franchise:\n",
    "  def __init__(self, address, menus):\n",
    "    self.address = address\n",
    "    self.menus = menus\n",
    "\n",
    "  def __repr__(self):\n",
    "    return self.address\n",
    "\n",
    "  def available_menus(self, time):\n",
    "    available_menus = []\n",
    "    for menu in self.menus:\n",
    "      if time >= menu.start_time and time <= menu.end_time:\n",
    "        available_menus.append(menu)\n",
    "    return available_menus"
   ]
  },
  {
   "cell_type": "code",
   "execution_count": 4,
   "metadata": {},
   "outputs": [],
   "source": [
    "class Menu:\n",
    "  def __init__(self, name, items, start_time, end_time):\n",
    "    self.name = name\n",
    "    self.items = items\n",
    "    self.start_time = start_time\n",
    "    self.end_time = end_time \n",
    "\n",
    "  def __repr__(self):\n",
    "    return self.name + ' menu available from ' + str(self.start_time) + ' - ' + str(self.end_time)\n",
    "\n",
    "  def calculate_bill(self, purchused_items):\n",
    "    bill = 0\n",
    "    for purchused_item in purchused_items:\n",
    "      if purchused_item in self.items:\n",
    "        bill += self.items[purchused_item]\n",
    "    return bill"
   ]
  },
  {
   "cell_type": "code",
   "execution_count": 5,
   "metadata": {},
   "outputs": [
    {
     "name": "stdout",
     "output_type": "stream",
     "text": [
      "13.5\n"
     ]
    }
   ],
   "source": [
    "#brunch menu\n",
    "brunch_items = {\n",
    "  'pancakes': 7.50, 'waffles': 9.00, 'burger': 11.00, 'home fries': 4.50, 'coffee': 1.50, 'espresso': 3.00, 'tea': 1.00, 'mimosa': 10.50, 'orange juice': 3.50\n",
    "}   \n",
    "brunch_menu = Menu('Brunch', brunch_items, 1100, 1600)\n",
    "\n",
    "print(brunch_menu.calculate_bill(['pancakes', 'home fries', 'coffee']))"
   ]
  },
  {
   "cell_type": "code",
   "execution_count": 6,
   "metadata": {},
   "outputs": [
    {
     "name": "stdout",
     "output_type": "stream",
     "text": [
      "21.5\n"
     ]
    }
   ],
   "source": [
    "# early bird menu\n",
    "early_bird_items = {\n",
    "  'salumeria plate': 8.00, 'salad and breadsticks (serves 2, no refills)': 14.00, 'pizza with quattro formaggi': 9.00, 'duck ragu': 17.50, 'mushroom ravioli (vegan)': 13.50, 'coffee': 1.50, 'espresso': 3.00,\n",
    "}\n",
    "early_bird_menu = Menu('Early Bird', early_bird_items, 1500, 1800)\n",
    "\n",
    "print(early_bird_menu.calculate_bill(['salumeria plate', 'mushroom ravioli (vegan)']))"
   ]
  },
  {
   "cell_type": "code",
   "execution_count": 7,
   "metadata": {},
   "outputs": [
    {
     "name": "stdout",
     "output_type": "stream",
     "text": [
      "Dinner menu available from 1700 - 2300\n"
     ]
    }
   ],
   "source": [
    "#dinner menu\n",
    "dinner_items = {\n",
    "  'crostini with eggplant caponata': 13.00, 'ceaser salad': 16.00, 'pizza with quattro formaggi': 11.00, 'duck ragu': 19.50, 'mushroom ravioli (vegan)': 13.50, 'coffee': 2.00, 'espresso': 3.00,\n",
    "}\n",
    "dinner_menu = Menu('Dinner', dinner_items, 1700, 2300)\n",
    "print(dinner_menu)"
   ]
  },
  {
   "cell_type": "code",
   "execution_count": 8,
   "metadata": {},
   "outputs": [
    {
     "name": "stdout",
     "output_type": "stream",
     "text": [
      "Kids menu available from 1100 - 2100\n"
     ]
    }
   ],
   "source": [
    "#kids menu\n",
    "kids_items = {\n",
    "  'chicken nuggets': 6.50, 'fusilli with wild mushrooms': 12.00, 'apple juice': 3.00\n",
    "}\n",
    "kids_menu = Menu('Kids', kids_items, 1100, 2100)\n",
    "print(kids_menu)"
   ]
  },
  {
   "cell_type": "code",
   "execution_count": 9,
   "metadata": {},
   "outputs": [],
   "source": [
    "menus = [brunch_menu, early_bird_menu, dinner_menu, kids_menu]"
   ]
  },
  {
   "cell_type": "code",
   "execution_count": 10,
   "metadata": {},
   "outputs": [],
   "source": [
    "flagship_store = Franchise('1232 West End Road', menus)\n",
    "new_installment = Franchise('12 East Mulberry Street', menus)"
   ]
  },
  {
   "cell_type": "code",
   "execution_count": 11,
   "metadata": {},
   "outputs": [],
   "source": [
    "basta = Business(\"Basta Fazoolin' with my Heart\", [flagship_store, new_installment])"
   ]
  },
  {
   "cell_type": "code",
   "execution_count": 14,
   "metadata": {},
   "outputs": [
    {
     "name": "stdout",
     "output_type": "stream",
     "text": [
      "Take a’ Arepa  menu available from 1000 - 2000\n"
     ]
    }
   ],
   "source": [
    "arepas_items = {\n",
    "  'arepa pabellon': 7.00, 'pernil arepa': 8.50, 'guayanes arepa': 8.00, 'jamon arepa': 7.50\n",
    "}\n",
    "arepas_menu = Menu(\"Take a’ Arepa \", arepas_items, 1000, 2000)\n",
    "\n",
    "arepas_place = Franchise('189 Fitzgerald Avenue', [arepas_menu])\n",
    "\n",
    "arepa = Business(\"Take a’ Arepa \", [arepas_place])\n",
    "print(arepa.franchises[0].menus[0])"
   ]
  },
  {
   "cell_type": "code",
   "execution_count": null,
   "metadata": {},
   "outputs": [],
   "source": []
  }
 ],
 "metadata": {
  "kernelspec": {
   "display_name": "Python 3",
   "language": "python",
   "name": "python3"
  },
  "language_info": {
   "codemirror_mode": {
    "name": "ipython",
    "version": 3
   },
   "file_extension": ".py",
   "mimetype": "text/x-python",
   "name": "python",
   "nbconvert_exporter": "python",
   "pygments_lexer": "ipython3",
   "version": "3.8.3"
  }
 },
 "nbformat": 4,
 "nbformat_minor": 4
}
