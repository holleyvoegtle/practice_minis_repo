{
 "cells": [
  {
   "cell_type": "code",
   "execution_count": 1,
   "metadata": {},
   "outputs": [],
   "source": [
    "# Create a function called username_generator take two inputs, \n",
    "# first_name and last_name and returns a username. \n",
    "# The username should be a slice of the first three letters of their first name and the first four letters of their last name. \n",
    "# If their first name is less than three letters or their last name is less than four letters it should use their entire names."
   ]
  },
  {
   "cell_type": "code",
   "execution_count": 2,
   "metadata": {},
   "outputs": [],
   "source": [
    "def username_generator(first_name, last_name):\n",
    "  if len(first_name) < 3:\n",
    "    user_name = first_name\n",
    "  else: \n",
    "    user_name = first_name[0:3]\n",
    "  if len(last_name) < 4:\n",
    "    user_name += last_name\n",
    "  else:\n",
    "    user_name += last_name[0:4]\n",
    "  return user_name"
   ]
  },
  {
   "cell_type": "code",
   "execution_count": 3,
   "metadata": {},
   "outputs": [],
   "source": [
    "# Now for the temporary password\n",
    "# they want the function to take the input user name and shift all of the letters by one to the right,\n",
    "# so the last letter of the username ends up as the first letter and so forth\n",
    "# Start by defining the function password_generator so that it takes one input, \n",
    "# username and in it define an empty string named password"
   ]
  },
  {
   "cell_type": "code",
   "execution_count": 6,
   "metadata": {},
   "outputs": [
    {
     "name": "stdout",
     "output_type": "stream",
     "text": [
      "AprShow\n",
      "PlaZomb\n"
     ]
    }
   ],
   "source": [
    "# Inside password_generator create a for loop that iterates through the indices username by going from 0 to len(username).\n",
    "# To shift the letters right, at each letter the for loop should add the previous letter to the string password.\n",
    "def password_generator(username):\n",
    "  password = \"\"\n",
    "  for i in range(0, len(user_name)):\n",
    "    password += user_name[i-1]\n",
    "  return password\n",
    "\n",
    "print(username_generator(\"April\", \"Showers\"))\n",
    "print(username_generator(\"Plant\", \"Zombie\"))\n",
    "    "
   ]
  },
  {
   "cell_type": "code",
   "execution_count": null,
   "metadata": {},
   "outputs": [],
   "source": []
  }
 ],
 "metadata": {
  "kernelspec": {
   "display_name": "Python 3",
   "language": "python",
   "name": "python3"
  },
  "language_info": {
   "codemirror_mode": {
    "name": "ipython",
    "version": 3
   },
   "file_extension": ".py",
   "mimetype": "text/x-python",
   "name": "python",
   "nbconvert_exporter": "python",
   "pygments_lexer": "ipython3",
   "version": "3.8.3"
  }
 },
 "nbformat": 4,
 "nbformat_minor": 4
}
