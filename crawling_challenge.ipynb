{
 "cells": [
  {
   "cell_type": "code",
   "execution_count": 98,
   "metadata": {},
   "outputs": [],
   "source": [
    "from bs4 import BeautifulSoup\n",
    "import requests\n",
    "import pandas as pd\n",
    "import csv\n",
    "import urllib.request"
   ]
  },
  {
   "cell_type": "code",
   "execution_count": 99,
   "metadata": {},
   "outputs": [
    {
     "name": "stdout",
     "output_type": "stream",
     "text": [
      "b'    <!DOCTYPE html>\\n    <html lang=\"en\">\\n    <head>\\n        <meta http-equiv=\"content-type\" content=\"text/html; charset=utf-8\">\\n        <title>Login</title>\\n        <meta name=\"viewport\" content=\"width=device-width, initial-scale=1\">\\n    </head>\\n    <body>\\n    <div id=\"page\">\\n        <header id=\"banner\">\\n            <hgroup>\\n                <h1>Login</h1>\\n            </hgroup>        \\n        </header>\\n        <section id=\"content\">\\n            <form id=\"login\" method=\"post\">\\n                <label for=\"username\">Username:</label>\\n                <input id=\"username\" name=\"username\" type=\"text\" required>\\n                <label for=\"password\">Password:</label>\\n                <input id=\"password\" name=\"password\" type=\"password\" required>                    \\n                <br />\\n                <input type=\"submit\" value=\"Login\">\\n            </form>\\n        </section>\\n\\n    </div>\\n    </body>\\n    </html>\\n    '\n"
     ]
    }
   ],
   "source": [
    "# To check if my request is successful and print contents\n",
    "website_response = requests.get('https://www.montmere.com/test.php')\n",
    "website = website_response.content\n",
    "print(website)"
   ]
  },
  {
   "cell_type": "code",
   "execution_count": 101,
   "metadata": {},
   "outputs": [
    {
     "name": "stdout",
     "output_type": "stream",
     "text": [
      "<!DOCTYPE html>\n",
      "<html lang=\"en\">\n",
      " <head>\n",
      "  <meta content=\"text/html; charset=utf-8\" http-equiv=\"content-type\"/>\n",
      "  <title>\n",
      "   Login\n",
      "  </title>\n",
      "  <meta content=\"width=device-width, initial-scale=1\" name=\"viewport\"/>\n",
      " </head>\n",
      " <body>\n",
      "  <div id=\"page\">\n",
      "   <header id=\"banner\">\n",
      "    <hgroup>\n",
      "     <h1>\n",
      "      Login\n",
      "     </h1>\n",
      "    </hgroup>\n",
      "   </header>\n",
      "   <section id=\"content\">\n",
      "    <form id=\"login\" method=\"post\">\n",
      "     <label for=\"username\">\n",
      "      Username:\n",
      "     </label>\n",
      "     <input id=\"username\" name=\"username\" required=\"\" type=\"text\"/>\n",
      "     <label for=\"password\">\n",
      "      Password:\n",
      "     </label>\n",
      "     <input id=\"password\" name=\"password\" required=\"\" type=\"password\"/>\n",
      "     <br/>\n",
      "     <input type=\"submit\" value=\"Login\"/>\n",
      "    </form>\n",
      "   </section>\n",
      "  </div>\n",
      " </body>\n",
      "</html>\n",
      "\n"
     ]
    }
   ],
   "source": [
    "# entire DOM of the website with its content with organization\n",
    "soup = BeautifulSoup(website, 'html.parser')\n",
    "print(soup.prettify())"
   ]
  },
  {
   "cell_type": "code",
   "execution_count": 113,
   "metadata": {},
   "outputs": [
    {
     "name": "stdout",
     "output_type": "stream",
     "text": [
      "div\n",
      "{'id': 'page'}\n"
     ]
    }
   ],
   "source": [
    "print(soup.div.name)\n",
    "print(soup.div.attrs)"
   ]
  },
  {
   "cell_type": "code",
   "execution_count": 114,
   "metadata": {},
   "outputs": [
    {
     "name": "stdout",
     "output_type": "stream",
     "text": [
      "None\n"
     ]
    }
   ],
   "source": [
    "print(soup.div.string)"
   ]
  },
  {
   "cell_type": "code",
   "execution_count": 116,
   "metadata": {},
   "outputs": [
    {
     "name": "stdout",
     "output_type": "stream",
     "text": [
      "<h1>Login</h1>\n"
     ]
    }
   ],
   "source": [
    "print(soup.h1)"
   ]
  },
  {
   "cell_type": "code",
   "execution_count": 115,
   "metadata": {},
   "outputs": [
    {
     "data": {
      "text/plain": [
       "0"
      ]
     },
     "execution_count": 115,
     "metadata": {},
     "output_type": "execute_result"
    }
   ],
   "source": [
    "#trying to find all the records\n",
    "\n",
    "# Tried this method:\n",
    "#results = soup.find(\"Year\")\n",
    "#print(results)\n",
    "\n",
    "# Also tried this:\n",
    "results = soup.find_all('id', attrs={'id':'page'})\n",
    "len(results)\n",
    "                   "
   ]
  },
  {
   "cell_type": "code",
   "execution_count": null,
   "metadata": {},
   "outputs": [],
   "source": []
  },
  {
   "cell_type": "code",
   "execution_count": 91,
   "metadata": {},
   "outputs": [],
   "source": [
    "#first_results = results[0]\n",
    "#first_results\n"
   ]
  },
  {
   "cell_type": "code",
   "execution_count": 92,
   "metadata": {},
   "outputs": [],
   "source": [
    "#first_results.find('table').text"
   ]
  },
  {
   "cell_type": "code",
   "execution_count": null,
   "metadata": {},
   "outputs": [],
   "source": [
    "# for loop to search for table with Make, Model, year"
   ]
  },
  {
   "cell_type": "code",
   "execution_count": null,
   "metadata": {},
   "outputs": [],
   "source": []
  },
  {
   "cell_type": "code",
   "execution_count": null,
   "metadata": {},
   "outputs": [],
   "source": []
  },
  {
   "cell_type": "code",
   "execution_count": null,
   "metadata": {},
   "outputs": [],
   "source": []
  },
  {
   "cell_type": "code",
   "execution_count": null,
   "metadata": {},
   "outputs": [],
   "source": [
    "# df = pd.DataFrame({'Names': results})\n",
    "#df.to_csv('names.csv', index=False, encoding='utf-8')"
   ]
  }
 ],
 "metadata": {
  "kernelspec": {
   "display_name": "Python 3",
   "language": "python",
   "name": "python3"
  },
  "language_info": {
   "codemirror_mode": {
    "name": "ipython",
    "version": 3
   },
   "file_extension": ".py",
   "mimetype": "text/x-python",
   "name": "python",
   "nbconvert_exporter": "python",
   "pygments_lexer": "ipython3",
   "version": "3.8.3"
  }
 },
 "nbformat": 4,
 "nbformat_minor": 4
}
