{
 "cells": [
  {
   "cell_type": "code",
   "execution_count": 1,
   "metadata": {},
   "outputs": [],
   "source": [
    "from bs4 import BeautifulSoup\n",
    "import requests\n",
    "import pandas as pd\n",
    "import csv\n",
    "import urllib.request"
   ]
  },
  {
   "cell_type": "code",
   "execution_count": 2,
   "metadata": {},
   "outputs": [
    {
     "name": "stdout",
     "output_type": "stream",
     "text": [
      "b'<!DOCTYPE html>\\n<meta charset=\"UTF-8\">\\n<head>\\n    <title>I bet You can\\'t crawl this!!</title>\\n    <link rel=\"stylesheet\" href=\"https://maxcdn.bootstrapcdn.com/bootstrap/4.0.0/css/bootstrap.min.css\" integrity=\"sha384-Gn5384xqQ1aoWXA+058RXPxPg6fy4IWvTNh0E263XmFcJlSAwiGgFAW/dAiS6JXm\" crossorigin=\"anonymous\">\\n    <script src=\"https://cdnjs.cloudflare.com/ajax/libs/jquery/3.3.1/jquery.min.js\"></script>\\n    <script defer src=\"https://use.fontawesome.com/releases/v5.0.8/js/solid.js\" integrity=\"sha384-+Ga2s7YBbhOD6nie0DzrZpJes+b2K1xkpKxTFFcx59QmVPaSA8c7pycsNaFwUK6l\" crossorigin=\"anonymous\"></script>\\n    <script defer src=\"https://use.fontawesome.com/releases/v5.0.8/js/fontawesome.js\" integrity=\"sha384-7ox8Q2yzO/uWircfojVuCQOZl+ZZBg2D2J5nkpLqzH1HY0C1dHlTKIbpRz/LG23c\" crossorigin=\"anonymous\"></script>\\n    <script src=\"https://cdnjs.cloudflare.com/ajax/libs/popper.js/1.12.9/umd/popper.min.js\" integrity=\"sha384-ApNbgh9B+Y1QKtv3Rn7W3mgPxhU9K/ScQsAP7hUibX39j7fakFPskvXusvfa0b4Q\" crossorigin=\"anonymous\"></script>\\n<script src=\"https://maxcdn.bootstrapcdn.com/bootstrap/4.0.0/js/bootstrap.min.js\" integrity=\"sha384-JZR6Spejh4U02d8jOt6vLEHfe/JQGiRRSQQxSfFWpi1MquVdAyjUar5+76PVCmYl\" crossorigin=\"anonymous\"></script>\\n    <script src=\"jsjs.js\"></script>\\n</head>\\n<body>\\n<div class=\"container\">\\n    <div class=\"row\">\\n        <div class=\"col-md-8\">\\n            <p>\\n                Instructions: Write a script, using python, to crawl this page and create\\n                or output a CSV file with the table contents below.\\n            </p>\\n            <p>\\n                Some guidelines / tips:\\n                <ul>\\n                    <li>\\n                        Have a question? Send an email to steve@tpastream.com.\\n                        When you\\'re done, shoot an email to steve@tpastream.com\\n                        with your results, which are explained below.\\n                    </li>\\n                    <li>\\n                        Include the source code you wrote to produce the results.\\n                    </li>\\n                    <li>\\n                        Include the output of the program you wrote (screenshot, copy / paste from terminal, etc).\\n                    </li>\\n                    <li>\\n                        We will be particularly impressed if you can show us\\n                        a solution using\\n                        <a href=\"http://selenium-python.readthedocs.io/getting-started.html#simple-usage\">Selenium</a>\\n                        but don\\'t feel as though you need to use Selenium.\\n                    </li>\\n                    <li>\\n                        We will be particularly impressed if you include instructions on how\\n                        to install any requirements &amp; how to run your code.\\n                    </li>\\n                    <li>\\n                        We will be particularly impressed if your code is \"fault-tolerant\" - i.e. when it sees an error,\\n                        it tries again.\\n                    </li>\\n                    <li>\\n                        We will be particularly impressed if your code is well commented or otherwise\\n                        is written in a way that is so easy for an outsider to read that it\\n                        \"speaks for itself.\"\\n                    </li>\\n                </ul>\\n            </p>\\n            <p>\\n                See an error below? Just hit refresh. Good luck!\\n            </p>\\n        </div>\\n    </div>\\n    <div class=\"row\">\\n        <div class=\"col-md-8\">\\n\\n            <div id=\"the-table\" style=\"display:none\">I\\'m literally just here to cause trouble.</div>\\n            <table id=\"the-table\" class=\"table\"></table>\\n            <table id=\"the-table\" class=\"table\"></table>\\n            <table id=\"the-table\" class=\"table\"></table>\\n        </div>\\n    </div>\\n\\n</div>\\n'\n"
     ]
    }
   ],
   "source": [
    "# To check if my request is successful and print contents\n",
    "website_response = requests.post('https://www.montmere.com/test.php')\n",
    "website = website_response.content\n",
    "print(website)"
   ]
  },
  {
   "cell_type": "code",
   "execution_count": 3,
   "metadata": {},
   "outputs": [
    {
     "name": "stdout",
     "output_type": "stream",
     "text": [
      "<!DOCTYPE html>\n",
      "<meta charset=\"utf-8\"/>\n",
      "<head>\n",
      " <title>\n",
      "  I bet You can't crawl this!!\n",
      " </title>\n",
      " <link crossorigin=\"anonymous\" href=\"https://maxcdn.bootstrapcdn.com/bootstrap/4.0.0/css/bootstrap.min.css\" integrity=\"sha384-Gn5384xqQ1aoWXA+058RXPxPg6fy4IWvTNh0E263XmFcJlSAwiGgFAW/dAiS6JXm\" rel=\"stylesheet\"/>\n",
      " <script src=\"https://cdnjs.cloudflare.com/ajax/libs/jquery/3.3.1/jquery.min.js\">\n",
      " </script>\n",
      " <script crossorigin=\"anonymous\" defer=\"\" integrity=\"sha384-+Ga2s7YBbhOD6nie0DzrZpJes+b2K1xkpKxTFFcx59QmVPaSA8c7pycsNaFwUK6l\" src=\"https://use.fontawesome.com/releases/v5.0.8/js/solid.js\">\n",
      " </script>\n",
      " <script crossorigin=\"anonymous\" defer=\"\" integrity=\"sha384-7ox8Q2yzO/uWircfojVuCQOZl+ZZBg2D2J5nkpLqzH1HY0C1dHlTKIbpRz/LG23c\" src=\"https://use.fontawesome.com/releases/v5.0.8/js/fontawesome.js\">\n",
      " </script>\n",
      " <script crossorigin=\"anonymous\" integrity=\"sha384-ApNbgh9B+Y1QKtv3Rn7W3mgPxhU9K/ScQsAP7hUibX39j7fakFPskvXusvfa0b4Q\" src=\"https://cdnjs.cloudflare.com/ajax/libs/popper.js/1.12.9/umd/popper.min.js\">\n",
      " </script>\n",
      " <script crossorigin=\"anonymous\" integrity=\"sha384-JZR6Spejh4U02d8jOt6vLEHfe/JQGiRRSQQxSfFWpi1MquVdAyjUar5+76PVCmYl\" src=\"https://maxcdn.bootstrapcdn.com/bootstrap/4.0.0/js/bootstrap.min.js\">\n",
      " </script>\n",
      " <script src=\"jsjs.js\">\n",
      " </script>\n",
      "</head>\n",
      "<body>\n",
      " <div class=\"container\">\n",
      "  <div class=\"row\">\n",
      "   <div class=\"col-md-8\">\n",
      "    <p>\n",
      "     Instructions: Write a script, using python, to crawl this page and create\n",
      "                or output a CSV file with the table contents below.\n",
      "    </p>\n",
      "    <p>\n",
      "     Some guidelines / tips:\n",
      "     <ul>\n",
      "      <li>\n",
      "       Have a question? Send an email to steve@tpastream.com.\n",
      "                        When you're done, shoot an email to steve@tpastream.com\n",
      "                        with your results, which are explained below.\n",
      "      </li>\n",
      "      <li>\n",
      "       Include the source code you wrote to produce the results.\n",
      "      </li>\n",
      "      <li>\n",
      "       Include the output of the program you wrote (screenshot, copy / paste from terminal, etc).\n",
      "      </li>\n",
      "      <li>\n",
      "       We will be particularly impressed if you can show us\n",
      "                        a solution using\n",
      "       <a href=\"http://selenium-python.readthedocs.io/getting-started.html#simple-usage\">\n",
      "        Selenium\n",
      "       </a>\n",
      "       but don't feel as though you need to use Selenium.\n",
      "      </li>\n",
      "      <li>\n",
      "       We will be particularly impressed if you include instructions on how\n",
      "                        to install any requirements &amp; how to run your code.\n",
      "      </li>\n",
      "      <li>\n",
      "       We will be particularly impressed if your code is \"fault-tolerant\" - i.e. when it sees an error,\n",
      "                        it tries again.\n",
      "      </li>\n",
      "      <li>\n",
      "       We will be particularly impressed if your code is well commented or otherwise\n",
      "                        is written in a way that is so easy for an outsider to read that it\n",
      "                        \"speaks for itself.\"\n",
      "      </li>\n",
      "     </ul>\n",
      "    </p>\n",
      "    <p>\n",
      "     See an error below? Just hit refresh. Good luck!\n",
      "    </p>\n",
      "   </div>\n",
      "  </div>\n",
      "  <div class=\"row\">\n",
      "   <div class=\"col-md-8\">\n",
      "    <div id=\"the-table\" style=\"display:none\">\n",
      "     I'm literally just here to cause trouble.\n",
      "    </div>\n",
      "    <table class=\"table\" id=\"the-table\">\n",
      "    </table>\n",
      "    <table class=\"table\" id=\"the-table\">\n",
      "    </table>\n",
      "    <table class=\"table\" id=\"the-table\">\n",
      "    </table>\n",
      "   </div>\n",
      "  </div>\n",
      " </div>\n",
      "</body>\n"
     ]
    }
   ],
   "source": [
    "# entire DOM of the website with its content with organization\n",
    "soup = BeautifulSoup(website, 'html.parser')\n",
    "print(soup.prettify())"
   ]
  },
  {
   "cell_type": "code",
   "execution_count": 5,
   "metadata": {},
   "outputs": [
    {
     "name": "stdout",
     "output_type": "stream",
     "text": [
      "div\n",
      "{'class': ['container']}\n"
     ]
    }
   ],
   "source": [
    "print(soup.div.name)\n",
    "print(soup.div.attrs)"
   ]
  },
  {
   "cell_type": "code",
   "execution_count": 22,
   "metadata": {},
   "outputs": [],
   "source": [
    "results = soup.find_all('table', attrs={'class':'the-table'})"
   ]
  },
  {
   "cell_type": "code",
   "execution_count": 23,
   "metadata": {},
   "outputs": [
    {
     "data": {
      "text/plain": [
       "0"
      ]
     },
     "execution_count": 23,
     "metadata": {},
     "output_type": "execute_result"
    }
   ],
   "source": [
    "len(results)\n",
    "                   "
   ]
  },
  {
   "cell_type": "code",
   "execution_count": null,
   "metadata": {},
   "outputs": [],
   "source": []
  },
  {
   "cell_type": "code",
   "execution_count": 91,
   "metadata": {},
   "outputs": [],
   "source": [
    "#first_results = results[0]\n",
    "#first_results\n"
   ]
  },
  {
   "cell_type": "code",
   "execution_count": 92,
   "metadata": {},
   "outputs": [],
   "source": [
    "#first_results.find('table').text"
   ]
  },
  {
   "cell_type": "code",
   "execution_count": null,
   "metadata": {},
   "outputs": [],
   "source": [
    "# for loop to search for table with Make, Model, year"
   ]
  },
  {
   "cell_type": "code",
   "execution_count": null,
   "metadata": {},
   "outputs": [],
   "source": []
  },
  {
   "cell_type": "code",
   "execution_count": null,
   "metadata": {},
   "outputs": [],
   "source": []
  },
  {
   "cell_type": "code",
   "execution_count": null,
   "metadata": {},
   "outputs": [],
   "source": []
  },
  {
   "cell_type": "code",
   "execution_count": null,
   "metadata": {},
   "outputs": [],
   "source": [
    "# df = pd.DataFrame({'Names': results})\n",
    "#df.to_csv('names.csv', index=False, encoding='utf-8')"
   ]
  }
 ],
 "metadata": {
  "kernelspec": {
   "display_name": "Python 3",
   "language": "python",
   "name": "python3"
  },
  "language_info": {
   "codemirror_mode": {
    "name": "ipython",
    "version": 3
   },
   "file_extension": ".py",
   "mimetype": "text/x-python",
   "name": "python",
   "nbconvert_exporter": "python",
   "pygments_lexer": "ipython3",
   "version": "3.8.3"
  }
 },
 "nbformat": 4,
 "nbformat_minor": 4
}
